{
 "cells": [
  {
   "cell_type": "code",
   "execution_count": 1,
   "id": "1c41b653-b9e4-4e03-8f3b-ebdbf2ee9d00",
   "metadata": {},
   "outputs": [],
   "source": [
    "from PIL import Image\n",
    "pic = Image.open(\"C:/Users/a2790/New Python3/S__58564626.jpg\")"
   ]
  },
  {
   "cell_type": "code",
   "execution_count": 2,
   "id": "d8f9378b-f441-4816-afd9-783ad927123a",
   "metadata": {},
   "outputs": [
    {
     "name": "stdout",
     "output_type": "stream",
     "text": [
      "圖片寬度: 1108\n",
      "圖片高度: 1477\n"
     ]
    }
   ],
   "source": [
    "print ('圖片寬度:',pic.width)\n",
    "print ('圖片高度:',pic.height)"
   ]
  },
  {
   "cell_type": "code",
   "execution_count": 3,
   "id": "4bbbaed3-ffb9-4ba6-af0d-d1ce140ad65b",
   "metadata": {},
   "outputs": [
    {
     "name": "stdout",
     "output_type": "stream",
     "text": [
      "圖片檔案格式: JPEG\n",
      "圖片色彩模式: RGB\n",
      "圖片大小: (1108, 1477)\n"
     ]
    }
   ],
   "source": [
    "print ('圖片檔案格式:',pic.format)\n",
    "print ('圖片色彩模式:',pic.mode)\n",
    "print ('圖片大小:',pic.size)"
   ]
  },
  {
   "cell_type": "code",
   "execution_count": 4,
   "id": "edf38c9e-8300-4173-a049-ebef8ee00e61",
   "metadata": {},
   "outputs": [],
   "source": [
    "pic.show()"
   ]
  },
  {
   "cell_type": "code",
   "execution_count": 5,
   "id": "874fe949-3550-46d0-b8ba-0769cd96fc1c",
   "metadata": {},
   "outputs": [
    {
     "name": "stdout",
     "output_type": "stream",
     "text": [
      "原本的圖片色彩模式: RGB\n",
      "轉換黑白後的圖片色彩模式: 1\n"
     ]
    }
   ],
   "source": [
    "print ('原本的圖片色彩模式:',pic.mode)\n",
    "new_pic = pic.convert('1')\n",
    "new_pic.show()\n",
    "print ('轉換黑白後的圖片色彩模式:',new_pic.mode)"
   ]
  },
  {
   "cell_type": "code",
   "execution_count": 6,
   "id": "229eb8ca-f7db-44f6-ab4b-da2ee4ec0b47",
   "metadata": {},
   "outputs": [],
   "source": [
    "new_pic = pic.rotate(30)\n",
    "new_pic.show()"
   ]
  },
  {
   "cell_type": "code",
   "execution_count": 7,
   "id": "1fdd1c2d-728c-446b-82d1-ab36c16e566d",
   "metadata": {},
   "outputs": [],
   "source": [
    "new_pic = pic.rotate(-30)\n",
    "new_pic.show()"
   ]
  },
  {
   "cell_type": "code",
   "execution_count": 8,
   "id": "9806e290-8795-4310-851f-59b3851b323b",
   "metadata": {},
   "outputs": [],
   "source": [
    "from PIL import Image\n",
    "from PIL import ImageFilter\n",
    "pic = Image.open(\"C:/Users/a2790/New Python3/S__58564626.jpg\")"
   ]
  },
  {
   "cell_type": "code",
   "execution_count": 9,
   "id": "76f53aee-64f3-4e58-95cc-611f03f0169d",
   "metadata": {},
   "outputs": [],
   "source": [
    "new_pic = pic.filter(ImageFilter.CONTOUR)\n",
    "new_pic.save(\"C:/Users/a2790/.jupyter/cat3.jpg\")\n",
    "new_pic.show()"
   ]
  },
  {
   "cell_type": "code",
   "execution_count": 10,
   "id": "2c70f64c-c421-44b5-b67a-d1b5c0d424f6",
   "metadata": {},
   "outputs": [
    {
     "name": "stdout",
     "output_type": "stream",
     "text": [
      "原圖大小: (1108, 1477)\n",
      "縮放後圖形大小: (400, 400)\n"
     ]
    }
   ],
   "source": [
    "print ('原圖大小:',pic.size)\n",
    "new_pic = pic.resize((400,400))\n",
    "print ('縮放後圖形大小:',new_pic.size)\n",
    "new_pic.save(\"C:/Users/a2790/.jupyter/cat4.jpg\")\n",
    "pic.show()"
   ]
  },
  {
   "cell_type": "code",
   "execution_count": 11,
   "id": "af0ef2b5-871b-47e6-8572-9f484941f23b",
   "metadata": {},
   "outputs": [],
   "source": [
    "from PIL import Image, ImageFont, ImageDraw\n",
    "pic = Image.open(\"C:/Users/a2790/New Python3/S__58564626.jpg\")"
   ]
  },
  {
   "cell_type": "code",
   "execution_count": 12,
   "id": "878ad047-b1da-4437-a3db-e87328214216",
   "metadata": {},
   "outputs": [],
   "source": [
    "t_font = ImageFont.truetype('c://Windowns//Fonts//Arial//arial.ttf',30)\n",
    "draw = ImageDraw.Draw(pic)\n",
    "\n",
    "draw.text((20,30), 'Taiwan', font = t_font, fill = (255,0,0,255))\n",
    "draw.text((20,100), 'Cat', font = t_font, fill = (0,255,0,255))\n",
    "pic.show()"
   ]
  },
  {
   "cell_type": "code",
   "execution_count": null,
   "id": "9467fa73-7cae-4483-b9c7-815ffca033be",
   "metadata": {},
   "outputs": [],
   "source": []
  }
 ],
 "metadata": {
  "kernelspec": {
   "display_name": "Python 3 (ipykernel)",
   "language": "python",
   "name": "python3"
  },
  "language_info": {
   "codemirror_mode": {
    "name": "ipython",
    "version": 3
   },
   "file_extension": ".py",
   "mimetype": "text/x-python",
   "name": "python",
   "nbconvert_exporter": "python",
   "pygments_lexer": "ipython3",
   "version": "3.11.7"
  }
 },
 "nbformat": 4,
 "nbformat_minor": 5
}
